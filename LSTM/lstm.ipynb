{
 "cells": [
  {
   "cell_type": "code",
   "execution_count": 1,
   "id": "6a2ebf08",
   "metadata": {},
   "outputs": [],
   "source": [
    "import pandas as pd\n",
    "import numpy as np\n",
    "from numpy import array"
   ]
  },
  {
   "cell_type": "code",
   "execution_count": 47,
   "id": "aa76217b",
   "metadata": {},
   "outputs": [],
   "source": [
    "from keras.models import load_model\n",
    "from keras.models import Sequential\n",
    "from keras.layers import LSTM\n",
    "from keras.layers import Dense\n",
    "import keras.callbacks as callbacks"
   ]
  },
  {
   "cell_type": "code",
   "execution_count": 3,
   "id": "6b18f699",
   "metadata": {},
   "outputs": [
    {
     "data": {
      "text/plain": [
       "(84, 1365)"
      ]
     },
     "execution_count": 3,
     "metadata": {},
     "output_type": "execute_result"
    }
   ],
   "source": [
    "df = pd.read_csv('med_stock_data.csv')\n",
    "df.shape"
   ]
  },
  {
   "cell_type": "code",
   "execution_count": 4,
   "id": "87a85ff6",
   "metadata": {},
   "outputs": [],
   "source": [
    "# split a univariate sequence into samples\n",
    "def split_sequence(sequence, n_steps):\n",
    "\tX, y = list(), list()\n",
    "\tfor i in range(len(sequence)):\n",
    "\t\t# find the end of this pattern\n",
    "\t\tend_ix = i + n_steps\n",
    "\t\t# check if we are beyond the sequence\n",
    "\t\tif end_ix > len(sequence)-1:\n",
    "\t\t\tbreak\n",
    "\t\t# gather input and output parts of the pattern\n",
    "\t\tseq_x, seq_y = sequence[i:end_ix], sequence[end_ix]\n",
    "\t\tX.append(seq_x)\n",
    "\t\ty.append(seq_y)\n",
    "\treturn array(X), array(y)"
   ]
  },
  {
   "cell_type": "code",
   "execution_count": 5,
   "id": "9a7eed5a",
   "metadata": {},
   "outputs": [],
   "source": [
    "N_DAYS = 50"
   ]
  },
  {
   "cell_type": "code",
   "execution_count": 6,
   "id": "c9879c7d",
   "metadata": {},
   "outputs": [
    {
     "data": {
      "text/plain": [
       "84"
      ]
     },
     "execution_count": 6,
     "metadata": {},
     "output_type": "execute_result"
    }
   ],
   "source": [
    "raw_data = []\n",
    "for i in range(len(df)):\n",
    "    row = df.iloc[i]\n",
    "    data = list(row[1:])\n",
    "    raw_data.append(data)\n",
    "len(raw_data)"
   ]
  },
  {
   "cell_type": "code",
   "execution_count": 7,
   "id": "3e0985d5",
   "metadata": {},
   "outputs": [],
   "source": [
    "\"\"\"\n",
    "The input is a 3D array. \n",
    "The length of the array is equal to the length of X_train.\n",
    "The length of an element of the array is the number of time steps. Here, that is N_DAYS\n",
    "Third dimension is how many units in one input of the sequence. We are just adding data to the sequence one item at a time. \n",
    "\n",
    "The target variable is one day at the end\n",
    "\"\"\"\n",
    "N_UNITS = 1\n",
    "\n",
    "X, y = split_sequence(raw_data[0], N_DAYS)\n",
    "X = X.reshape((X.shape[0], X.shape[1], N_UNITS))\n",
    "\n",
    "X_train = X[:1000]\n",
    "X_val = X[1000:1200]\n",
    "X_test = X[1200:]\n",
    "\n",
    "y_train = y[:1000]\n",
    "y_val = y[1000:1200]\n",
    "y_test = y[1200:]"
   ]
  },
  {
   "cell_type": "code",
   "execution_count": 42,
   "id": "005c2cb7",
   "metadata": {},
   "outputs": [
    {
     "data": {
      "text/plain": [
       "1314"
      ]
     },
     "execution_count": 42,
     "metadata": {},
     "output_type": "execute_result"
    }
   ],
   "source": [
    "len(X)"
   ]
  },
  {
   "cell_type": "code",
   "execution_count": 39,
   "id": "e58cefc2",
   "metadata": {},
   "outputs": [
    {
     "data": {
      "text/plain": [
       "(1000,)"
      ]
     },
     "execution_count": 39,
     "metadata": {},
     "output_type": "execute_result"
    }
   ],
   "source": [
    "y_train.shape"
   ]
  },
  {
   "cell_type": "code",
   "execution_count": 8,
   "id": "10740ddf",
   "metadata": {},
   "outputs": [
    {
     "name": "stderr",
     "output_type": "stream",
     "text": [
      "2022-09-20 17:20:42.182404: I tensorflow/core/platform/cpu_feature_guard.cc:193] This TensorFlow binary is optimized with oneAPI Deep Neural Network Library (oneDNN) to use the following CPU instructions in performance-critical operations:  AVX2 FMA\n",
      "To enable them in other operations, rebuild TensorFlow with the appropriate compiler flags.\n"
     ]
    }
   ],
   "source": [
    "model = Sequential()\n",
    "model.add(LSTM(50, activation='relu', input_shape=(N_DAYS, N_UNITS)))\n",
    "model.add(Dense(1))"
   ]
  },
  {
   "cell_type": "code",
   "execution_count": 20,
   "id": "a2802787",
   "metadata": {},
   "outputs": [],
   "source": [
    "early_stopping_monitor = callbacks.EarlyStopping(\n",
    "    monitor='val_loss',\n",
    "    min_delta=0,\n",
    "    patience=50,\n",
    "    verbose=1,\n",
    "    mode='min',\n",
    "    baseline=None,\n",
    "    restore_best_weights=True\n",
    ")"
   ]
  },
  {
   "cell_type": "code",
   "execution_count": 21,
   "id": "89b0efa4",
   "metadata": {
    "scrolled": true
   },
   "outputs": [
    {
     "name": "stdout",
     "output_type": "stream",
     "text": [
      "Epoch 1/200\n",
      "16/16 [==============================] - 1s 31ms/step - loss: 14543.2334 - val_loss: 52953.5938\n",
      "Epoch 2/200\n",
      "16/16 [==============================] - 0s 18ms/step - loss: 17212.1406 - val_loss: 51019.1367\n",
      "Epoch 3/200\n",
      "16/16 [==============================] - 0s 18ms/step - loss: 17314.6738 - val_loss: 49773.7109\n",
      "Epoch 4/200\n",
      "16/16 [==============================] - 0s 18ms/step - loss: 17197.4824 - val_loss: 48378.3750\n",
      "Epoch 5/200\n",
      "16/16 [==============================] - 0s 18ms/step - loss: 17085.7129 - val_loss: 47135.7656\n",
      "Epoch 6/200\n",
      "16/16 [==============================] - 0s 19ms/step - loss: 18152.3477 - val_loss: 45840.7383\n",
      "Epoch 7/200\n",
      "16/16 [==============================] - 0s 18ms/step - loss: 18025.1406 - val_loss: 44436.3281\n",
      "Epoch 8/200\n",
      "16/16 [==============================] - 0s 19ms/step - loss: 17378.9043 - val_loss: 43021.3711\n",
      "Epoch 9/200\n",
      "16/16 [==============================] - 0s 20ms/step - loss: 16757.7422 - val_loss: 41622.1406\n",
      "Epoch 10/200\n",
      "16/16 [==============================] - 0s 19ms/step - loss: 16074.1670 - val_loss: 40272.5312\n",
      "Epoch 11/200\n",
      "16/16 [==============================] - 0s 18ms/step - loss: 15299.9717 - val_loss: 38973.1367\n",
      "Epoch 12/200\n",
      "16/16 [==============================] - 0s 18ms/step - loss: 14716.4590 - val_loss: 37705.9336\n",
      "Epoch 13/200\n",
      "16/16 [==============================] - 0s 19ms/step - loss: 14253.5400 - val_loss: 36466.9258\n",
      "Epoch 14/200\n",
      "16/16 [==============================] - 0s 20ms/step - loss: 13667.7324 - val_loss: 35274.8242\n",
      "Epoch 15/200\n",
      "16/16 [==============================] - 0s 19ms/step - loss: 13098.1924 - val_loss: 34131.7539\n",
      "Epoch 16/200\n",
      "16/16 [==============================] - 0s 19ms/step - loss: 12464.9844 - val_loss: 33006.0430\n",
      "Epoch 17/200\n",
      "16/16 [==============================] - 0s 22ms/step - loss: 11983.9297 - val_loss: 31927.7383\n",
      "Epoch 18/200\n",
      "16/16 [==============================] - 0s 19ms/step - loss: 11658.8086 - val_loss: 30871.5996\n",
      "Epoch 19/200\n",
      "16/16 [==============================] - 0s 21ms/step - loss: 11175.0244 - val_loss: 29844.6816\n",
      "Epoch 20/200\n",
      "16/16 [==============================] - 0s 22ms/step - loss: 10799.9844 - val_loss: 28853.1094\n",
      "Epoch 21/200\n",
      "16/16 [==============================] - 0s 20ms/step - loss: 10456.4551 - val_loss: 27888.7070\n",
      "Epoch 22/200\n",
      "16/16 [==============================] - 0s 18ms/step - loss: 10088.7031 - val_loss: 26914.8047\n",
      "Epoch 23/200\n",
      "16/16 [==============================] - 0s 18ms/step - loss: 9707.6768 - val_loss: 25981.3145\n",
      "Epoch 24/200\n",
      "16/16 [==============================] - 0s 18ms/step - loss: 9334.9580 - val_loss: 25088.9043\n",
      "Epoch 25/200\n",
      "16/16 [==============================] - 0s 18ms/step - loss: 8920.9600 - val_loss: 24213.0527\n",
      "Epoch 26/200\n",
      "16/16 [==============================] - 0s 19ms/step - loss: 8525.9160 - val_loss: 23365.0820\n",
      "Epoch 27/200\n",
      "16/16 [==============================] - 0s 19ms/step - loss: 8177.8374 - val_loss: 22535.3418\n",
      "Epoch 28/200\n",
      "16/16 [==============================] - 0s 18ms/step - loss: 7824.5767 - val_loss: 21738.4121\n",
      "Epoch 29/200\n",
      "16/16 [==============================] - 0s 18ms/step - loss: 7492.7119 - val_loss: 20950.5059\n",
      "Epoch 30/200\n",
      "16/16 [==============================] - 0s 18ms/step - loss: 7085.8638 - val_loss: 20194.6758\n",
      "Epoch 31/200\n",
      "16/16 [==============================] - 0s 18ms/step - loss: 6781.2598 - val_loss: 19458.4785\n",
      "Epoch 32/200\n",
      "16/16 [==============================] - 0s 19ms/step - loss: 6499.1221 - val_loss: 18756.2988\n",
      "Epoch 33/200\n",
      "16/16 [==============================] - 0s 20ms/step - loss: 6240.2720 - val_loss: 18046.6621\n",
      "Epoch 34/200\n",
      "16/16 [==============================] - 0s 21ms/step - loss: 5959.2925 - val_loss: 17342.0605\n",
      "Epoch 35/200\n",
      "16/16 [==============================] - 0s 21ms/step - loss: 5433.8110 - val_loss: 16552.5117\n",
      "Epoch 36/200\n",
      "16/16 [==============================] - 0s 27ms/step - loss: 5011.2734 - val_loss: 15925.7383\n",
      "Epoch 37/200\n",
      "16/16 [==============================] - 0s 21ms/step - loss: 4626.3521 - val_loss: 15323.4365\n",
      "Epoch 38/200\n",
      "16/16 [==============================] - 0s 29ms/step - loss: 4360.7031 - val_loss: 14725.0137\n",
      "Epoch 39/200\n",
      "16/16 [==============================] - 0s 26ms/step - loss: 4143.7402 - val_loss: 14087.2852\n",
      "Epoch 40/200\n",
      "16/16 [==============================] - 0s 22ms/step - loss: 3817.6643 - val_loss: 13441.4883\n",
      "Epoch 41/200\n",
      "16/16 [==============================] - 0s 26ms/step - loss: 3614.8926 - val_loss: 12995.9346\n",
      "Epoch 42/200\n",
      "16/16 [==============================] - 0s 26ms/step - loss: 3238.3162 - val_loss: 12028.1221\n",
      "Epoch 43/200\n",
      "16/16 [==============================] - 0s 22ms/step - loss: 3061.6099 - val_loss: 12160.3398\n",
      "Epoch 44/200\n",
      "16/16 [==============================] - 0s 21ms/step - loss: 3099.7126 - val_loss: 11848.1104\n",
      "Epoch 45/200\n",
      "16/16 [==============================] - 0s 22ms/step - loss: 1953.2324 - val_loss: 115.7100\n",
      "Epoch 46/200\n",
      "16/16 [==============================] - 0s 23ms/step - loss: 23.9584 - val_loss: 172.6218\n",
      "Epoch 47/200\n",
      "16/16 [==============================] - 0s 22ms/step - loss: 15.2674 - val_loss: 110.2913\n",
      "Epoch 48/200\n",
      "16/16 [==============================] - 0s 21ms/step - loss: 12.0782 - val_loss: 162.8179\n",
      "Epoch 49/200\n",
      "16/16 [==============================] - 0s 21ms/step - loss: 14.6324 - val_loss: 76.5512\n",
      "Epoch 50/200\n",
      "16/16 [==============================] - 0s 21ms/step - loss: 12.7862 - val_loss: 68.3483\n",
      "Epoch 51/200\n",
      "16/16 [==============================] - 0s 21ms/step - loss: 10.2089 - val_loss: 69.8892\n",
      "Epoch 52/200\n",
      "16/16 [==============================] - 0s 21ms/step - loss: 6.3093 - val_loss: 58.8834\n",
      "Epoch 53/200\n",
      "16/16 [==============================] - 0s 23ms/step - loss: 5.9858 - val_loss: 66.1831\n",
      "Epoch 54/200\n",
      "16/16 [==============================] - 0s 20ms/step - loss: 5.6129 - val_loss: 49.3564\n",
      "Epoch 55/200\n",
      "16/16 [==============================] - 0s 20ms/step - loss: 5.7725 - val_loss: 55.5264\n",
      "Epoch 56/200\n",
      "16/16 [==============================] - 0s 20ms/step - loss: 6.9637 - val_loss: 39.6704\n",
      "Epoch 57/200\n",
      "16/16 [==============================] - 0s 21ms/step - loss: 5.6692 - val_loss: 45.3558\n",
      "Epoch 58/200\n",
      "16/16 [==============================] - 0s 19ms/step - loss: 5.2180 - val_loss: 39.3865\n",
      "Epoch 59/200\n",
      "16/16 [==============================] - 0s 19ms/step - loss: 6.1400 - val_loss: 45.6749\n",
      "Epoch 60/200\n",
      "16/16 [==============================] - 0s 21ms/step - loss: 5.3196 - val_loss: 45.5260\n",
      "Epoch 61/200\n",
      "16/16 [==============================] - 0s 21ms/step - loss: 4.6483 - val_loss: 43.4627\n",
      "Epoch 62/200\n",
      "16/16 [==============================] - 0s 21ms/step - loss: 4.7020 - val_loss: 36.8537\n",
      "Epoch 63/200\n",
      "16/16 [==============================] - 0s 21ms/step - loss: 5.5607 - val_loss: 38.7219\n",
      "Epoch 64/200\n",
      "16/16 [==============================] - 0s 21ms/step - loss: 5.2648 - val_loss: 42.2730\n",
      "Epoch 65/200\n",
      "16/16 [==============================] - 0s 21ms/step - loss: 5.4779 - val_loss: 36.1950\n",
      "Epoch 66/200\n",
      "16/16 [==============================] - 0s 21ms/step - loss: 4.4738 - val_loss: 35.9221\n",
      "Epoch 67/200\n",
      "16/16 [==============================] - 0s 25ms/step - loss: 4.5847 - val_loss: 38.3425\n",
      "Epoch 68/200\n",
      "16/16 [==============================] - 0s 22ms/step - loss: 4.6579 - val_loss: 36.3065\n",
      "Epoch 69/200\n",
      "16/16 [==============================] - 0s 22ms/step - loss: 4.5764 - val_loss: 32.3712\n",
      "Epoch 70/200\n",
      "16/16 [==============================] - 0s 25ms/step - loss: 4.6098 - val_loss: 37.5720\n",
      "Epoch 71/200\n",
      "16/16 [==============================] - 0s 23ms/step - loss: 4.5306 - val_loss: 38.3465\n",
      "Epoch 72/200\n",
      "16/16 [==============================] - 0s 24ms/step - loss: 4.6138 - val_loss: 38.4973\n",
      "Epoch 73/200\n",
      "16/16 [==============================] - 0s 25ms/step - loss: 4.9375 - val_loss: 30.7535\n",
      "Epoch 74/200\n",
      "16/16 [==============================] - 0s 23ms/step - loss: 4.5267 - val_loss: 34.2135\n",
      "Epoch 75/200\n",
      "16/16 [==============================] - 0s 22ms/step - loss: 4.2890 - val_loss: 36.2313\n",
      "Epoch 76/200\n",
      "16/16 [==============================] - 0s 23ms/step - loss: 4.3676 - val_loss: 34.7955\n",
      "Epoch 77/200\n",
      "16/16 [==============================] - 0s 25ms/step - loss: 4.4677 - val_loss: 33.9824\n",
      "Epoch 78/200\n"
     ]
    },
    {
     "name": "stdout",
     "output_type": "stream",
     "text": [
      "16/16 [==============================] - 0s 22ms/step - loss: 4.8570 - val_loss: 36.8661\n",
      "Epoch 79/200\n",
      "16/16 [==============================] - 0s 23ms/step - loss: 5.0630 - val_loss: 32.2709\n",
      "Epoch 80/200\n",
      "16/16 [==============================] - 0s 23ms/step - loss: 4.9561 - val_loss: 31.6988\n",
      "Epoch 81/200\n",
      "16/16 [==============================] - 0s 23ms/step - loss: 5.5818 - val_loss: 30.9645\n",
      "Epoch 82/200\n",
      "16/16 [==============================] - 0s 24ms/step - loss: 6.9015 - val_loss: 44.0268\n",
      "Epoch 83/200\n",
      "16/16 [==============================] - 0s 24ms/step - loss: 4.6758 - val_loss: 41.7820\n",
      "Epoch 84/200\n",
      "16/16 [==============================] - 0s 23ms/step - loss: 5.0309 - val_loss: 43.4566\n",
      "Epoch 85/200\n",
      "16/16 [==============================] - 0s 23ms/step - loss: 4.6478 - val_loss: 29.5133\n",
      "Epoch 86/200\n",
      "16/16 [==============================] - 0s 24ms/step - loss: 4.3336 - val_loss: 30.0077\n",
      "Epoch 87/200\n",
      "16/16 [==============================] - 0s 25ms/step - loss: 4.6282 - val_loss: 27.3482\n",
      "Epoch 88/200\n",
      "16/16 [==============================] - 0s 23ms/step - loss: 4.2477 - val_loss: 27.9566\n",
      "Epoch 89/200\n",
      "16/16 [==============================] - 0s 23ms/step - loss: 4.3260 - val_loss: 28.3228\n",
      "Epoch 90/200\n",
      "16/16 [==============================] - 0s 23ms/step - loss: 4.5674 - val_loss: 31.0163\n",
      "Epoch 91/200\n",
      "16/16 [==============================] - 0s 23ms/step - loss: 4.3905 - val_loss: 26.6273\n",
      "Epoch 92/200\n",
      "16/16 [==============================] - 0s 22ms/step - loss: 4.3552 - val_loss: 25.7197\n",
      "Epoch 93/200\n",
      "16/16 [==============================] - 0s 24ms/step - loss: 4.2042 - val_loss: 26.5662\n",
      "Epoch 94/200\n",
      "16/16 [==============================] - 0s 24ms/step - loss: 4.2054 - val_loss: 26.8936\n",
      "Epoch 95/200\n",
      "16/16 [==============================] - 0s 24ms/step - loss: 4.2001 - val_loss: 23.9150\n",
      "Epoch 96/200\n",
      "16/16 [==============================] - 0s 23ms/step - loss: 4.2551 - val_loss: 25.8787\n",
      "Epoch 97/200\n",
      "16/16 [==============================] - 0s 23ms/step - loss: 4.3068 - val_loss: 26.2372\n",
      "Epoch 98/200\n",
      "16/16 [==============================] - 0s 23ms/step - loss: 4.6091 - val_loss: 27.4874\n",
      "Epoch 99/200\n",
      "16/16 [==============================] - 0s 23ms/step - loss: 4.3910 - val_loss: 35.3622\n",
      "Epoch 100/200\n",
      "16/16 [==============================] - 0s 23ms/step - loss: 5.1519 - val_loss: 27.0389\n",
      "Epoch 101/200\n",
      "16/16 [==============================] - 0s 29ms/step - loss: 4.4436 - val_loss: 30.5944\n",
      "Epoch 102/200\n",
      "16/16 [==============================] - 0s 26ms/step - loss: 4.3432 - val_loss: 30.4485\n",
      "Epoch 103/200\n",
      "16/16 [==============================] - 0s 22ms/step - loss: 4.2037 - val_loss: 27.5251\n",
      "Epoch 104/200\n",
      "16/16 [==============================] - 0s 22ms/step - loss: 4.4060 - val_loss: 27.2103\n",
      "Epoch 105/200\n",
      "16/16 [==============================] - 0s 22ms/step - loss: 4.5109 - val_loss: 27.5262\n",
      "Epoch 106/200\n",
      "16/16 [==============================] - 0s 26ms/step - loss: 4.7712 - val_loss: 30.4560\n",
      "Epoch 107/200\n",
      "16/16 [==============================] - 0s 22ms/step - loss: 4.5946 - val_loss: 30.3280\n",
      "Epoch 108/200\n",
      "16/16 [==============================] - 0s 23ms/step - loss: 4.2765 - val_loss: 26.4193\n",
      "Epoch 109/200\n",
      "16/16 [==============================] - 0s 22ms/step - loss: 4.1586 - val_loss: 28.8549\n",
      "Epoch 110/200\n",
      "16/16 [==============================] - 0s 22ms/step - loss: 4.4146 - val_loss: 28.3276\n",
      "Epoch 111/200\n",
      "16/16 [==============================] - 0s 25ms/step - loss: 4.2573 - val_loss: 28.5244\n",
      "Epoch 112/200\n",
      "16/16 [==============================] - 0s 23ms/step - loss: 4.4139 - val_loss: 30.4399\n",
      "Epoch 113/200\n",
      "16/16 [==============================] - 0s 23ms/step - loss: 4.2567 - val_loss: 27.3475\n",
      "Epoch 114/200\n",
      "16/16 [==============================] - 0s 26ms/step - loss: 4.0904 - val_loss: 27.0536\n",
      "Epoch 115/200\n",
      "16/16 [==============================] - 0s 23ms/step - loss: 4.5121 - val_loss: 29.0285\n",
      "Epoch 116/200\n",
      "16/16 [==============================] - 0s 25ms/step - loss: 4.2175 - val_loss: 29.5661\n",
      "Epoch 117/200\n",
      "16/16 [==============================] - 0s 23ms/step - loss: 4.2444 - val_loss: 25.6403\n",
      "Epoch 118/200\n",
      "16/16 [==============================] - 0s 22ms/step - loss: 4.3291 - val_loss: 23.3642\n",
      "Epoch 119/200\n",
      "16/16 [==============================] - 0s 22ms/step - loss: 4.3360 - val_loss: 24.4238\n",
      "Epoch 120/200\n",
      "16/16 [==============================] - 0s 22ms/step - loss: 4.7394 - val_loss: 23.4242\n",
      "Epoch 121/200\n",
      "16/16 [==============================] - 0s 24ms/step - loss: 4.2386 - val_loss: 31.6376\n",
      "Epoch 122/200\n",
      "16/16 [==============================] - 0s 23ms/step - loss: 4.4801 - val_loss: 24.9133\n",
      "Epoch 123/200\n",
      "16/16 [==============================] - 0s 22ms/step - loss: 4.7267 - val_loss: 26.5119\n",
      "Epoch 124/200\n",
      "16/16 [==============================] - 0s 22ms/step - loss: 4.2150 - val_loss: 28.7717\n",
      "Epoch 125/200\n",
      "16/16 [==============================] - 0s 24ms/step - loss: 4.4139 - val_loss: 23.4677\n",
      "Epoch 126/200\n",
      "16/16 [==============================] - 0s 23ms/step - loss: 4.5429 - val_loss: 23.0527\n",
      "Epoch 127/200\n",
      "16/16 [==============================] - 0s 22ms/step - loss: 4.4109 - val_loss: 24.2483\n",
      "Epoch 128/200\n",
      "16/16 [==============================] - 0s 23ms/step - loss: 4.1366 - val_loss: 27.4857\n",
      "Epoch 129/200\n",
      "16/16 [==============================] - 0s 25ms/step - loss: 4.5475 - val_loss: 37.1813\n",
      "Epoch 130/200\n",
      "16/16 [==============================] - 0s 30ms/step - loss: 4.4779 - val_loss: 28.1616\n",
      "Epoch 131/200\n",
      "16/16 [==============================] - 0s 26ms/step - loss: 4.2119 - val_loss: 22.9008\n",
      "Epoch 132/200\n",
      "16/16 [==============================] - 0s 26ms/step - loss: 4.2250 - val_loss: 25.8018\n",
      "Epoch 133/200\n",
      "16/16 [==============================] - 1s 31ms/step - loss: 4.1644 - val_loss: 23.2523\n",
      "Epoch 134/200\n",
      "16/16 [==============================] - 0s 27ms/step - loss: 4.5024 - val_loss: 26.2722\n",
      "Epoch 135/200\n",
      "16/16 [==============================] - 0s 25ms/step - loss: 5.0494 - val_loss: 26.3911\n",
      "Epoch 136/200\n",
      "16/16 [==============================] - 0s 27ms/step - loss: 5.0002 - val_loss: 29.3774\n",
      "Epoch 137/200\n",
      "16/16 [==============================] - 0s 29ms/step - loss: 4.4917 - val_loss: 26.1045\n",
      "Epoch 138/200\n",
      "16/16 [==============================] - 0s 27ms/step - loss: 4.6430 - val_loss: 24.5138\n",
      "Epoch 139/200\n",
      "16/16 [==============================] - 0s 27ms/step - loss: 4.4479 - val_loss: 25.3401\n",
      "Epoch 140/200\n",
      "16/16 [==============================] - 0s 28ms/step - loss: 4.3718 - val_loss: 22.6203\n",
      "Epoch 141/200\n",
      "16/16 [==============================] - 0s 29ms/step - loss: 4.6861 - val_loss: 28.9174\n",
      "Epoch 142/200\n",
      "16/16 [==============================] - 0s 27ms/step - loss: 4.3381 - val_loss: 36.2517\n",
      "Epoch 143/200\n",
      "16/16 [==============================] - 1s 32ms/step - loss: 4.5017 - val_loss: 28.1867\n",
      "Epoch 144/200\n",
      "16/16 [==============================] - 1s 30ms/step - loss: 4.2434 - val_loss: 32.5729\n",
      "Epoch 145/200\n",
      "16/16 [==============================] - 0s 27ms/step - loss: 4.8471 - val_loss: 28.3244\n",
      "Epoch 146/200\n",
      "16/16 [==============================] - 0s 28ms/step - loss: 4.2457 - val_loss: 27.6155\n",
      "Epoch 147/200\n",
      "16/16 [==============================] - 0s 27ms/step - loss: 4.1799 - val_loss: 27.2687\n",
      "Epoch 148/200\n",
      "16/16 [==============================] - 0s 27ms/step - loss: 4.1930 - val_loss: 29.4256\n",
      "Epoch 149/200\n",
      "16/16 [==============================] - 0s 28ms/step - loss: 4.2682 - val_loss: 26.1419\n",
      "Epoch 150/200\n",
      "16/16 [==============================] - 0s 28ms/step - loss: 4.4796 - val_loss: 31.5369\n",
      "Epoch 151/200\n",
      "16/16 [==============================] - 0s 27ms/step - loss: 4.4694 - val_loss: 29.4514\n",
      "Epoch 152/200\n",
      "16/16 [==============================] - 0s 31ms/step - loss: 4.3860 - val_loss: 27.2081\n",
      "Epoch 153/200\n",
      "16/16 [==============================] - 0s 25ms/step - loss: 5.1562 - val_loss: 31.0242\n",
      "Epoch 154/200\n",
      "16/16 [==============================] - 0s 30ms/step - loss: 4.2916 - val_loss: 29.2922\n",
      "Epoch 155/200\n",
      "16/16 [==============================] - 0s 29ms/step - loss: 4.1881 - val_loss: 29.3208\n",
      "Epoch 156/200\n",
      "16/16 [==============================] - 0s 26ms/step - loss: 4.2223 - val_loss: 30.1771\n",
      "Epoch 157/200\n",
      "16/16 [==============================] - 0s 23ms/step - loss: 4.1653 - val_loss: 29.2346\n"
     ]
    },
    {
     "name": "stdout",
     "output_type": "stream",
     "text": [
      "Epoch 158/200\n",
      "16/16 [==============================] - 0s 24ms/step - loss: 4.4412 - val_loss: 27.5316\n",
      "Epoch 159/200\n",
      "16/16 [==============================] - 0s 25ms/step - loss: 4.3863 - val_loss: 30.0982\n",
      "Epoch 160/200\n",
      "16/16 [==============================] - 0s 24ms/step - loss: 4.7807 - val_loss: 28.1550\n",
      "Epoch 161/200\n",
      "16/16 [==============================] - 0s 23ms/step - loss: 4.2390 - val_loss: 32.4839\n",
      "Epoch 162/200\n",
      "16/16 [==============================] - 0s 24ms/step - loss: 4.1046 - val_loss: 28.0033\n",
      "Epoch 163/200\n",
      "16/16 [==============================] - 0s 26ms/step - loss: 4.1074 - val_loss: 34.5338\n",
      "Epoch 164/200\n",
      "16/16 [==============================] - 0s 25ms/step - loss: 4.5202 - val_loss: 30.4534\n",
      "Epoch 165/200\n",
      "16/16 [==============================] - 0s 23ms/step - loss: 4.2557 - val_loss: 28.2176\n",
      "Epoch 166/200\n",
      "16/16 [==============================] - 0s 24ms/step - loss: 4.3309 - val_loss: 29.7274\n",
      "Epoch 167/200\n",
      "16/16 [==============================] - 1s 37ms/step - loss: 4.6763 - val_loss: 26.7054\n",
      "Epoch 168/200\n",
      "16/16 [==============================] - 0s 25ms/step - loss: 4.4250 - val_loss: 29.0584\n",
      "Epoch 169/200\n",
      "16/16 [==============================] - 0s 25ms/step - loss: 4.2496 - val_loss: 33.1479\n",
      "Epoch 170/200\n",
      "16/16 [==============================] - 0s 25ms/step - loss: 4.4595 - val_loss: 26.5577\n",
      "Epoch 171/200\n",
      "16/16 [==============================] - 0s 23ms/step - loss: 4.0970 - val_loss: 29.2823\n",
      "Epoch 172/200\n",
      "16/16 [==============================] - 0s 24ms/step - loss: 4.3150 - val_loss: 25.7042\n",
      "Epoch 173/200\n",
      "16/16 [==============================] - 0s 23ms/step - loss: 4.1006 - val_loss: 34.7342\n",
      "Epoch 174/200\n",
      "16/16 [==============================] - 0s 24ms/step - loss: 4.9029 - val_loss: 33.8865\n",
      "Epoch 175/200\n",
      "16/16 [==============================] - 0s 24ms/step - loss: 4.5484 - val_loss: 28.7144\n",
      "Epoch 176/200\n",
      "16/16 [==============================] - 0s 24ms/step - loss: 4.4935 - val_loss: 35.8193\n",
      "Epoch 177/200\n",
      "16/16 [==============================] - 0s 23ms/step - loss: 4.1889 - val_loss: 38.4796\n",
      "Epoch 178/200\n",
      "16/16 [==============================] - 0s 23ms/step - loss: 4.3024 - val_loss: 27.3503\n",
      "Epoch 179/200\n",
      "16/16 [==============================] - 0s 23ms/step - loss: 4.1209 - val_loss: 27.2427\n",
      "Epoch 180/200\n",
      "16/16 [==============================] - 0s 23ms/step - loss: 4.6083 - val_loss: 24.7152\n",
      "Epoch 181/200\n",
      "16/16 [==============================] - 0s 26ms/step - loss: 4.2203 - val_loss: 25.4905\n",
      "Epoch 182/200\n",
      "16/16 [==============================] - 0s 29ms/step - loss: 4.4757 - val_loss: 30.3134\n",
      "Epoch 183/200\n",
      "16/16 [==============================] - 0s 27ms/step - loss: 4.2265 - val_loss: 32.1843\n",
      "Epoch 184/200\n",
      "16/16 [==============================] - 0s 23ms/step - loss: 4.0518 - val_loss: 30.9081\n",
      "Epoch 185/200\n",
      "16/16 [==============================] - 0s 24ms/step - loss: 4.2636 - val_loss: 23.9887\n",
      "Epoch 186/200\n",
      "16/16 [==============================] - 0s 24ms/step - loss: 4.5021 - val_loss: 21.7153\n",
      "Epoch 187/200\n",
      "16/16 [==============================] - 0s 25ms/step - loss: 4.6254 - val_loss: 27.6996\n",
      "Epoch 188/200\n",
      "16/16 [==============================] - 0s 23ms/step - loss: 4.1906 - val_loss: 31.7172\n",
      "Epoch 189/200\n",
      "16/16 [==============================] - 0s 23ms/step - loss: 4.1255 - val_loss: 30.7366\n",
      "Epoch 190/200\n",
      "16/16 [==============================] - 0s 22ms/step - loss: 4.0721 - val_loss: 32.2590\n",
      "Epoch 191/200\n",
      "16/16 [==============================] - 0s 23ms/step - loss: 4.5262 - val_loss: 32.0525\n",
      "Epoch 192/200\n",
      "16/16 [==============================] - 0s 24ms/step - loss: 4.0375 - val_loss: 30.1211\n",
      "Epoch 193/200\n",
      "16/16 [==============================] - 0s 23ms/step - loss: 4.0996 - val_loss: 28.4471\n",
      "Epoch 194/200\n",
      "16/16 [==============================] - 0s 23ms/step - loss: 4.4400 - val_loss: 35.8120\n",
      "Epoch 195/200\n",
      "16/16 [==============================] - 0s 23ms/step - loss: 4.2288 - val_loss: 31.0263\n",
      "Epoch 196/200\n",
      "16/16 [==============================] - 0s 24ms/step - loss: 4.0039 - val_loss: 29.0846\n",
      "Epoch 197/200\n",
      "16/16 [==============================] - 0s 23ms/step - loss: 4.1959 - val_loss: 33.5027\n",
      "Epoch 198/200\n",
      "16/16 [==============================] - 0s 24ms/step - loss: 5.0916 - val_loss: 29.6689\n",
      "Epoch 199/200\n",
      "16/16 [==============================] - 0s 23ms/step - loss: 4.1045 - val_loss: 32.3929\n",
      "Epoch 200/200\n",
      "16/16 [==============================] - 0s 23ms/step - loss: 4.1224 - val_loss: 28.1456\n"
     ]
    },
    {
     "data": {
      "text/plain": [
       "<keras.callbacks.History at 0x7fb0995946a0>"
      ]
     },
     "execution_count": 21,
     "metadata": {},
     "output_type": "execute_result"
    }
   ],
   "source": [
    "model.compile(optimizer='adam', loss='mse')\n",
    "# fit model\n",
    "model.fit(X_train, y_train, \n",
    "          epochs=200, verbose=1, batch_size=64,\n",
    "          validation_data=(X_val, y_val),          \n",
    "          callbacks=[early_stopping_monitor])"
   ]
  },
  {
   "cell_type": "code",
   "execution_count": 22,
   "id": "69f869d1",
   "metadata": {},
   "outputs": [
    {
     "name": "stdout",
     "output_type": "stream",
     "text": [
      "4/4 [==============================] - 0s 5ms/step\n"
     ]
    },
    {
     "data": {
      "text/plain": [
       "array([[248.45428],\n",
       "       [244.16873],\n",
       "       [240.07   ],\n",
       "       [239.69084],\n",
       "       [238.81348],\n",
       "       [237.21307],\n",
       "       [240.63525],\n",
       "       [241.09042],\n",
       "       [245.03178],\n",
       "       [237.41455],\n",
       "       [237.23036],\n",
       "       [236.72018],\n",
       "       [234.73271],\n",
       "       [234.99586],\n",
       "       [235.18855],\n",
       "       [236.24025],\n",
       "       [235.37175],\n",
       "       [230.92822],\n",
       "       [235.05353],\n",
       "       [232.86798],\n",
       "       [233.50519],\n",
       "       [236.09845],\n",
       "       [232.15102],\n",
       "       [228.31606],\n",
       "       [228.87875],\n",
       "       [224.63547],\n",
       "       [224.32224],\n",
       "       [224.11986],\n",
       "       [222.3718 ],\n",
       "       [223.10905],\n",
       "       [224.8599 ],\n",
       "       [223.51149],\n",
       "       [223.40498],\n",
       "       [221.34146],\n",
       "       [220.39616],\n",
       "       [218.77054],\n",
       "       [219.97888],\n",
       "       [221.12633],\n",
       "       [223.7754 ],\n",
       "       [222.71887],\n",
       "       [222.09038],\n",
       "       [222.4722 ],\n",
       "       [220.0021 ],\n",
       "       [221.24808],\n",
       "       [225.2663 ],\n",
       "       [219.38315],\n",
       "       [218.00119],\n",
       "       [214.18906],\n",
       "       [213.5865 ],\n",
       "       [210.51619],\n",
       "       [208.28854],\n",
       "       [211.16751],\n",
       "       [209.8017 ],\n",
       "       [208.81558],\n",
       "       [209.1667 ],\n",
       "       [210.72566],\n",
       "       [210.89671],\n",
       "       [212.29613],\n",
       "       [208.83945],\n",
       "       [216.18063],\n",
       "       [212.35446],\n",
       "       [222.86638],\n",
       "       [226.902  ],\n",
       "       [228.41072],\n",
       "       [232.16772],\n",
       "       [233.40079],\n",
       "       [232.90216],\n",
       "       [235.9101 ],\n",
       "       [236.9706 ],\n",
       "       [233.34818],\n",
       "       [233.69446],\n",
       "       [236.7555 ],\n",
       "       [241.1758 ],\n",
       "       [243.26392],\n",
       "       [243.23082],\n",
       "       [243.01437],\n",
       "       [242.98003],\n",
       "       [238.24681],\n",
       "       [240.84946],\n",
       "       [246.32063],\n",
       "       [244.92026],\n",
       "       [242.46913],\n",
       "       [243.72484],\n",
       "       [242.63509],\n",
       "       [245.13068],\n",
       "       [256.0113 ],\n",
       "       [260.39386],\n",
       "       [260.07196],\n",
       "       [262.2942 ],\n",
       "       [263.80206],\n",
       "       [264.68866],\n",
       "       [267.3151 ],\n",
       "       [268.43515],\n",
       "       [267.5506 ],\n",
       "       [271.27393],\n",
       "       [267.49435],\n",
       "       [271.3257 ],\n",
       "       [269.18613],\n",
       "       [273.52396],\n",
       "       [271.51147],\n",
       "       [268.5979 ],\n",
       "       [271.74298],\n",
       "       [273.7591 ],\n",
       "       [276.81644],\n",
       "       [278.81116],\n",
       "       [281.72653],\n",
       "       [281.0965 ],\n",
       "       [284.7304 ],\n",
       "       [288.5749 ],\n",
       "       [283.7411 ],\n",
       "       [285.2536 ],\n",
       "       [285.1505 ],\n",
       "       [286.0511 ],\n",
       "       [286.80066]], dtype=float32)"
      ]
     },
     "execution_count": 22,
     "metadata": {},
     "output_type": "execute_result"
    }
   ],
   "source": [
    "y_pred = model.predict(X_test, verbose=1)\n",
    "y_pred"
   ]
  },
  {
   "cell_type": "code",
   "execution_count": 23,
   "id": "bf650a3e",
   "metadata": {},
   "outputs": [
    {
     "name": "stdout",
     "output_type": "stream",
     "text": [
      "Evaluate on test data\n",
      "1/1 [==============================] - 0s 30ms/step - loss: 12.8782\n",
      "test loss, test acc: 12.878206253051758\n"
     ]
    }
   ],
   "source": [
    "print(\"Evaluate on test data\")\n",
    "results = model.evaluate(X_test, y_test, batch_size=128)\n",
    "print(\"test loss, test acc:\", results)"
   ]
  },
  {
   "cell_type": "code",
   "execution_count": 29,
   "id": "80a5a2b6",
   "metadata": {},
   "outputs": [
    {
     "data": {
      "text/plain": [
       "False"
      ]
     },
     "execution_count": 29,
     "metadata": {},
     "output_type": "execute_result"
    }
   ],
   "source": [
    "y_pred.shape == y_test.shape"
   ]
  },
  {
   "cell_type": "code",
   "execution_count": 36,
   "id": "9ef5784e",
   "metadata": {},
   "outputs": [
    {
     "data": {
      "image/png": "[encoded data removed]",
      "text/plain": [
       "<Figure size 432x288 with 1 Axes>"
      ]
     },
     "metadata": {
      "needs_background": "light"
     },
     "output_type": "display_data"
    }
   ],
   "source": [
    "import matplotlib.pyplot as plt\n",
    "plt.plot(y_pred,'g*', y_test, 'ro')\n",
    "plt.show()"
   ]
  },
  {
   "cell_type": "code",
   "execution_count": 31,
   "id": "d6ba2a6b",
   "metadata": {},
   "outputs": [
    {
     "data": {
      "text/plain": [
       "(114, 1)"
      ]
     },
     "execution_count": 31,
     "metadata": {},
     "output_type": "execute_result"
    }
   ],
   "source": [
    "y_pred.shape"
   ]
  },
  {
   "cell_type": "code",
   "execution_count": 30,
   "id": "5b489fa1",
   "metadata": {
    "scrolled": true
   },
   "outputs": [
    {
     "data": {
      "image/png": "[encoded data removed]",
      "text/plain": [
       "<Figure size 432x288 with 1 Axes>"
      ]
     },
     "metadata": {
      "needs_background": "light"
     },
     "output_type": "display_data"
    }
   ],
   "source": [
    "import matplotlib.pyplot as plt\n",
    "plt.plot(y_pred)\n",
    "plt.show()"
   ]
  },
  {
   "cell_type": "code",
   "execution_count": 34,
   "id": "900f20aa",
   "metadata": {},
   "outputs": [
    {
     "data": {
      "image/png": "[encoded data removed]",
      "text/plain": [
       "<Figure size 432x288 with 1 Axes>"
      ]
     },
     "metadata": {
      "needs_background": "light"
     },
     "output_type": "display_data"
    }
   ],
   "source": [
    "diff = y_pred[:-1] - y_pred[1:]\n",
    "plt.plot(diff)\n",
    "plt.show()"
   ]
  },
  {
   "cell_type": "code",
   "execution_count": 44,
   "id": "3c97b239",
   "metadata": {},
   "outputs": [
    {
     "name": "stdout",
     "output_type": "stream",
     "text": [
      "INFO:tensorflow:Assets written to: lstm_model.sav/assets\n"
     ]
    }
   ],
   "source": [
    "model.save(\"lstm_model.sav\")"
   ]
  },
  {
   "cell_type": "code",
   "execution_count": 49,
   "id": "fe669cf2",
   "metadata": {},
   "outputs": [
    {
     "data": {
      "text/plain": [
       "<keras.engine.sequential.Sequential at 0x7fb09cd99610>"
      ]
     },
     "execution_count": 49,
     "metadata": {},
     "output_type": "execute_result"
    }
   ],
   "source": [
    "loaded_model = load_model('lstm_model.sav')\n",
    "loaded_model"
   ]
  },
  {
   "cell_type": "code",
   "execution_count": null,
   "id": "deb1034c",
   "metadata": {},
   "outputs": [],
   "source": [
    "Y_test[-1]\n",
    "\n",
    "loaded_model.predict()"
   ]
  }
 ],
 "metadata": {
  "kernelspec": {
   "display_name": "Python 3 (ipykernel)",
   "language": "python",
   "name": "python3"
  },
  "language_info": {
   "codemirror_mode": {
    "name": "ipython",
    "version": 3
   },
   "file_extension": ".py",
   "mimetype": "text/x-python",
   "name": "python",
   "nbconvert_exporter": "python",
   "pygments_lexer": "ipython3",
   "version": "3.9.12"
  }
 },
 "nbformat": 4,
 "nbformat_minor": 5
}
